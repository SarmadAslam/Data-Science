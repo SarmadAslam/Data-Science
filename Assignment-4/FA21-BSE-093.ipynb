{
  "cells": [
    {
      "cell_type": "code",
      "execution_count": null,
      "metadata": {
        "id": "pGjDO4l-0CXh"
      },
      "outputs": [],
      "source": [
        "# 11-12-23\n",
        "# CSC461 – Assignment4 – NLP\n",
        "# Sarmad Aslam\n",
        "# Fa21-BSE-093\n",
        "# Q1: Computing BoW, TF, IDF, and then TF.IDF values for each term in the given sentences\n",
        "# Q2: Compute the similarity between sentences using cosine, manhattan, and euclidean distances\n",
        "\n",
        "\n",
        "#----------------------------------------\n",
        "#------------Question No. 1--------------\n",
        "#----------------------------------------\n",
        "\n",
        "#import warnings to 'ignore' warning messages\n",
        "\n",
        "import warnings\n",
        "warnings.filterwarnings(\"ignore\")"
      ]
    },
    {
      "cell_type": "code",
      "execution_count": null,
      "metadata": {
        "id": "geBDHbNzzNCi"
      },
      "outputs": [],
      "source": [
        "#import important libraries\n",
        "\n",
        "from sklearn.feature_extraction.text import CountVectorizer\n",
        "from sklearn.feature_extraction.text import TfidfVectorizer\n",
        "from sklearn.metrics.pairwise import cosine_similarity\n",
        "\n",
        "import pandas as pd\n",
        "import numpy as np"
      ]
    },
    {
      "cell_type": "code",
      "execution_count": null,
      "metadata": {
        "id": "htTMN-nfywUn"
      },
      "outputs": [],
      "source": [
        "#generate two simple texts as examples\n",
        "\n",
        "text_1 = \"data science is one of the most important courses in computer science\"\n",
        "text_2 = \"this is one of the best data science courses\"\n",
        "text_3 = \"the data scientists perform data analysis\"\n",
        "\n",
        "sentences = [text_1, text_2, text_3]"
      ]
    },
    {
      "cell_type": "code",
      "execution_count": null,
      "metadata": {
        "id": "drJfJ80OzIDR"
      },
      "outputs": [],
      "source": [
        "#combine both texts to make a corpus\n",
        "\n",
        "data_exp1 = [text_1, text_2, text_3]\n",
        "data_exp1"
      ]
    },
    {
      "cell_type": "code",
      "execution_count": null,
      "metadata": {
        "id": "1xI5VK0pzQq_"
      },
      "outputs": [],
      "source": [
        "#create a reference object to the CountVectorizer constructor\n",
        "#use the reference object to generate BoW matrix using the fit_transform() function\n",
        "\n",
        "count_vectorizer = CountVectorizer()\n",
        "c_vector_matrix_exp1 = count_vectorizer.fit_transform(data_exp1)\n",
        "c_vector_matrix_exp1"
      ]
    },
    {
      "cell_type": "code",
      "execution_count": null,
      "metadata": {
        "id": "uYXk4gAUziA_"
      },
      "outputs": [],
      "source": [
        "#use get_feature_names_out() to extract vocabulary\n",
        "\n",
        "c_tokens_exp1 = count_vectorizer.get_feature_names_out()\n",
        "c_tokens_exp1"
      ]
    },
    {
      "cell_type": "code",
      "execution_count": null,
      "metadata": {
        "id": "jpru0HJT0JV7"
      },
      "outputs": [],
      "source": [
        "#convert BoW matrix to an array format\n",
        "\n",
        "bow = c_vector_matrix_exp1.toarray()"
      ]
    },
    {
      "cell_type": "code",
      "execution_count": null,
      "metadata": {
        "id": "j6od_Ubs0pAp"
      },
      "outputs": [],
      "source": [
        "#convert BoW matrix to a Pandas dataframe\n",
        "\n",
        "df_c_exp1 = pd.DataFrame(data = c_vector_matrix_exp1.toarray(), columns = c_tokens_exp1)\n",
        "df_c_exp1"
      ]
    },
    {
      "cell_type": "code",
      "execution_count": null,
      "metadata": {},
      "outputs": [],
      "source": [
        "# Term Frequency (TF)\n",
        "tf = np.divide(bow, np.sum(bow, axis=1, keepdims=True))\n",
        "\n",
        "# Inverse Document Frequency (IDF)\n",
        "idf = np.log(len(sentences) / np.sum(bow > 0, axis=0))"
      ]
    },
    {
      "cell_type": "code",
      "execution_count": null,
      "metadata": {},
      "outputs": [],
      "source": [
        "def convert_to_dataframe(matrix, columns):\n",
        "    df = pd.DataFrame(data=matrix, columns=columns)\n",
        "    return df\n",
        "\n",
        "# Convert TF matrix to DataFrame\n",
        "df_tf = convert_to_dataframe(tf, columns=c_tokens_exp1)\n",
        "\n",
        "# Reshape IDF matrix to match the required shape\n",
        "idf = idf.reshape(1, -1) \n",
        "\n",
        "# Convert IDF matrix to DataFrame\n",
        "df_idf = convert_to_dataframe(idf, columns=c_tokens_exp1)"
      ]
    },
    {
      "cell_type": "code",
      "execution_count": null,
      "metadata": {},
      "outputs": [],
      "source": [
        "print(\"TF DataFrame:\")\n",
        "df_tf"
      ]
    },
    {
      "cell_type": "code",
      "execution_count": null,
      "metadata": {},
      "outputs": [],
      "source": [
        "print(\"IDF DataFrame:\")\n",
        "df_idf\n",
        "\n",
        "print(\"\\n\\n#------------------Question 1 Ends----------------------#\")"
      ]
    },
    {
      "cell_type": "code",
      "execution_count": null,
      "metadata": {
        "id": "cWMoiJbf1Cd9"
      },
      "outputs": [],
      "source": [
        "# Q2: Compute the similarity between sentences using cosine, manhattan, and euclidean distances\n",
        "\n",
        "#----------------------------------------\n",
        "#------------Question No. 2--------------\n",
        "#----------------------------------------\n",
        "\n",
        "\n",
        "#generate cosine similarity matrix\n",
        "\n",
        "c_cosine_similarity_matrix_exp1 = cosine_similarity(c_vector_matrix_exp1)\n",
        "c_cosine_similarity_matrix_exp1"
      ]
    },
    {
      "cell_type": "code",
      "execution_count": null,
      "metadata": {
        "id": "D9ARpcWI1YIF"
      },
      "outputs": [],
      "source": [
        "#convert cosine similarity matrix to Pandas dataframe\n",
        "\n",
        "df_c_similarity_exp1 = pd.DataFrame(data = c_cosine_similarity_matrix_exp1)\n",
        "df_c_similarity_exp1"
      ]
    },
    {
      "cell_type": "code",
      "execution_count": null,
      "metadata": {
        "id": "NpwvBc7P2NL0"
      },
      "outputs": [],
      "source": [
        "#create a reference object to the TfidfVectorizer constructor\n",
        "#use the reference object to generate tf.idf matrix using the fit_transform() function\n",
        "\n",
        "tfidf_vect_exp1 = TfidfVectorizer()\n",
        "t_tfidf_matrix_exp1 = tfidf_vect_exp1.fit_transform(data_exp1)\n",
        "t_tfidf_matrix_exp1"
      ]
    },
    {
      "cell_type": "code",
      "execution_count": null,
      "metadata": {
        "id": "XYv-Asyi2XSk"
      },
      "outputs": [],
      "source": [
        "#use get_feature_names_out() to extract vocabulary\n",
        "\n",
        "t_tokens_exp1 = tfidf_vect_exp1.get_feature_names_out()\n",
        "t_tokens_exp1"
      ]
    },
    {
      "cell_type": "code",
      "execution_count": null,
      "metadata": {
        "id": "WLA9V6iB2ehU"
      },
      "outputs": [],
      "source": [
        "#convert tf.idf matrix to a Pandas dataframe\n",
        "\n",
        "df_t_exp1 = pd.DataFrame(data = t_tfidf_matrix_exp1.toarray(), columns = t_tokens_exp1)\n",
        "df_t_exp1"
      ]
    },
    {
      "cell_type": "code",
      "execution_count": null,
      "metadata": {
        "id": "Rn3_nkez2k1_"
      },
      "outputs": [],
      "source": [
        "#generate cosine similarity matrix\n",
        "\n",
        "t_cosine_similarity_matrix_exp1 = cosine_similarity(t_tfidf_matrix_exp1)\n",
        "t_cosine_similarity_matrix_exp1"
      ]
    },
    {
      "cell_type": "code",
      "execution_count": null,
      "metadata": {
        "id": "cMhnRcO42qUa"
      },
      "outputs": [],
      "source": [
        "#convert cosine similarity matrix to Pandas dataframe\n",
        "\n",
        "df_t_similarity_exp1 = pd.DataFrame(data = t_cosine_similarity_matrix_exp1)\n",
        "df_t_similarity_exp1"
      ]
    },
    {
      "cell_type": "code",
      "execution_count": null,
      "metadata": {
        "id": "xAKtX743ne9k"
      },
      "outputs": [],
      "source": [
        "#import scityblock (manhattan distance) from scipy\n",
        "\n",
        "from scipy.spatial.distance import cityblock"
      ]
    },
    {
      "cell_type": "code",
      "execution_count": null,
      "metadata": {
        "id": "7EypjKuRnlme"
      },
      "outputs": [],
      "source": [
        "#calculate scityblock (manhattan distance) between two document vectors (text1, text3)\n",
        "\n",
        "cityblock(df_t_exp1.iloc[0], df_t_exp1.iloc[2])"
      ]
    },
    {
      "cell_type": "code",
      "execution_count": null,
      "metadata": {
        "id": "mmub-XNGpx_-"
      },
      "outputs": [],
      "source": [
        "#calculate percentage scityblock (manhattan distance)\n",
        "\n",
        "1/(cityblock(df_t_exp1.iloc[1], df_t_exp1.iloc[2]))"
      ]
    },
    {
      "cell_type": "code",
      "execution_count": null,
      "metadata": {
        "id": "cRU4U_fxqpY_"
      },
      "outputs": [],
      "source": [
        "#import math library to use euclidean distance\n",
        "\n",
        "import math"
      ]
    },
    {
      "cell_type": "code",
      "execution_count": null,
      "metadata": {
        "id": "6DXQsg7aqvVv"
      },
      "outputs": [],
      "source": [
        "#calculate euclidean distance between two document vectors (text2, text3)\n",
        "\n",
        "math.dist(df_t_exp1.iloc[1], df_t_exp1.iloc[2])"
      ]
    }
  ],
  "metadata": {
    "colab": {
      "provenance": []
    },
    "kernelspec": {
      "display_name": "Python 3",
      "name": "python3"
    },
    "language_info": {
      "codemirror_mode": {
        "name": "ipython",
        "version": 3
      },
      "file_extension": ".py",
      "mimetype": "text/x-python",
      "name": "python",
      "nbconvert_exporter": "python",
      "pygments_lexer": "ipython3",
      "version": "3.11.4"
    }
  },
  "nbformat": 4,
  "nbformat_minor": 0
}
