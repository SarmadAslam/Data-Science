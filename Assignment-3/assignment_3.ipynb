{
 "cells": [
  {
   "cell_type": "code",
   "execution_count": null,
   "id": "71cb85c7-c5bc-4067-bac8-aa5a0c44cd7b",
   "metadata": {},
   "outputs": [],
   "source": [
    "# 26-11-23\n",
    "# CSC461 – Assignment3 – Machine Learning\n",
    "# Sarmad Aslam\n",
    "# Fa21-BSE-093\n",
    "\n",
    "\n",
    "#----------------------------------------\n",
    "#------------Question No. 2--------------\n",
    "#----------------------------------------\n",
    "\n",
    "\"\"\" Apply Logistic Regression, Support Vector Machines, and Multilayer Perceptron classification \n",
    "algorithms (using Python) on the gender prediction dataset with 2/3 train and 1/3 test split ratio and answer \n",
    "the following questions. \"\"\"\n",
    "\n",
    "#import libraries\n",
    "from sklearn import preprocessing\n",
    "import pandas as pd\n",
    "\n",
    "#import different ML classifiers\n",
    "\n",
    "from sklearn.naive_bayes import GaussianNB, BernoulliNB, MultinomialNB\n",
    "from sklearn.svm import SVC, LinearSVC\n",
    "from sklearn.linear_model import LogisticRegression\n",
    "from sklearn.tree import DecisionTreeClassifier\n",
    "from sklearn.ensemble import RandomForestClassifier\n",
    "from sklearn.neural_network import MLPClassifier\n",
    "\n",
    "#import ML evaluation metrics\n",
    "\n",
    "from sklearn.metrics import accuracy_score, f1_score\n",
    "from sklearn.model_selection import train_test_split\n",
    "from sklearn import metrics, model_selection\n"
   ]
  },
  {
   "cell_type": "code",
   "execution_count": null,
   "metadata": {},
   "outputs": [],
   "source": [
    "#read CSV (dataset) file\n",
    "\n",
    "gender_file = pd.read_csv('D:\\Sarmad\\SEMESTER 5\\Data Science\\gender-prediction.csv')\n",
    "#gender_file\n",
    "\n",
    "#While I was trying to read this file from your shared google drive, it was giving an error\n",
    "#So, I read this file by downloading it in the local directory"
   ]
  },
  {
   "cell_type": "code",
   "execution_count": null,
   "metadata": {},
   "outputs": [],
   "source": [
    "#converting categorical data (beard, hair_length, scarf, eye_color, gender) into numerical data\n",
    "\n",
    "labels = preprocessing.LabelEncoder()\n",
    "gender_file['beard_encoded'] = labels.fit_transform(gender_file['beard'])\n",
    "gender_file['hair_length_encoded'] = labels.fit_transform(gender_file['hair_length'])\n",
    "gender_file['scarf_encoded'] = labels.fit_transform(gender_file['scarf'])\n",
    "gender_file['eye_color_encoded'] = labels.fit_transform(gender_file['eye_color'])\n",
    "gender_file['gender_encoded'] = labels.fit_transform(gender_file['gender'])"
   ]
  },
  {
   "cell_type": "code",
   "execution_count": null,
   "metadata": {},
   "outputs": [],
   "source": [
    "#Assigning input data to \"features\" variable and output data to \"targets\" variable\n",
    "\n",
    "features = list(zip(gender_file['height'], gender_file['weight'], gender_file['beard_encoded'], gender_file['hair_length_encoded'], gender_file['shoe_size'], gender_file['scarf_encoded'], gender_file['eye_color_encoded']))\n",
    "targets = gender_file['gender_encoded']"
   ]
  },
  {
   "cell_type": "code",
   "execution_count": null,
   "metadata": {},
   "outputs": [],
   "source": [
    "#Assigning input values to 'x' and output values to 'y'\n",
    "x = features\n",
    "y = targets"
   ]
  },
  {
   "cell_type": "code",
   "execution_count": null,
   "metadata": {},
   "outputs": [],
   "source": [
    "#making train/test split\n",
    "X_train, x_test, Y_train, y_test = train_test_split(x, y, test_size = 0.33, random_state = 42)"
   ]
  },
  {
   "cell_type": "code",
   "execution_count": null,
   "metadata": {},
   "outputs": [],
   "source": [
    "#-------Question No. 2---------------\n",
    "#-------------------------------------\n",
    "#Part 1: How many instances are incorrectly classified?\n",
    "#---------------------------------------------------------\n",
    "\n",
    "#Executing the Required Models (Logistic Regression Mode, Support Vector Machines, and Multilayer Perceptron classification algorithms Model\n",
    "\n",
    "model_lr = LogisticRegression()\n",
    "model_svc = SVC()\n",
    "model_mlp = MLPClassifier()"
   ]
  },
  {
   "cell_type": "code",
   "execution_count": null,
   "metadata": {},
   "outputs": [],
   "source": [
    "#training the models using the training data (2/3 of total data)\n",
    "\n",
    "model_lr.fit(X_train, Y_train)\n",
    "model_svc.fit(X_train, Y_train)\n",
    "model_mlp.fit(X_train, Y_train)"
   ]
  },
  {
   "cell_type": "code",
   "execution_count": null,
   "metadata": {},
   "outputs": [],
   "source": [
    "#make predictions using the trained models\n",
    "\n",
    "prediction_lr = model_lr.predict(x_test)\n",
    "prediction_svc = model_svc.predict(x_test)\n",
    "prediction_mlp = model_mlp.predict(x_test)"
   ]
  },
  {
   "cell_type": "code",
   "execution_count": null,
   "metadata": {},
   "outputs": [],
   "source": [
    "#Calculating incorrects by different models\n",
    "\n",
    "lr_incorrect = (y_test != prediction_lr).sum()\n",
    "svc_incorrect = (y_test != prediction_svc).sum()\n",
    "mlp_incorrect = (y_test != prediction_mlp).sum()\n",
    "\n",
    "print(\"Part 1\")\n",
    "print(\"-------Answers--------\")\n",
    "\n",
    "print(\"Incorrects by Logistic Regression: \",lr_incorrect)\n",
    "print(\"Incorrects by SVC: \",svc_incorrect)\n",
    "print(\"Incorrects by MLP: \",mlp_incorrect)"
   ]
  },
  {
   "cell_type": "code",
   "execution_count": null,
   "metadata": {},
   "outputs": [],
   "source": [
    "#-------Question No. 2---------------\n",
    "#-------------------------------------\n",
    "#Part 2: Rerun the experiment using train/test split ratio of 80/20. Do you see any change in the results? \n",
    "#---------------------------------------------------------\n",
    "\n",
    "#make train/test split for 80/20 train/test data, so test data size would be 0.20\n",
    "\n",
    "X_train, x_test, Y_train, y_test = train_test_split(x, y, test_size = 0.20, random_state = 42)"
   ]
  },
  {
   "cell_type": "code",
   "execution_count": null,
   "metadata": {},
   "outputs": [],
   "source": [
    "model_lr = LogisticRegression()\n",
    "model_svc = SVC()\n",
    "model_mlp = MLPClassifier()"
   ]
  },
  {
   "cell_type": "code",
   "execution_count": null,
   "metadata": {},
   "outputs": [],
   "source": [
    "#train the model using the data (training data)\n",
    "\n",
    "model_lr.fit(X_train, Y_train)\n",
    "model_svc.fit(X_train, Y_train)\n",
    "model_mlp.fit(X_train, Y_train)"
   ]
  },
  {
   "cell_type": "code",
   "execution_count": null,
   "metadata": {},
   "outputs": [],
   "source": [
    "#make prediction using the trained model\n",
    "\n",
    "prediction_lr = model_lr.predict(x_test)\n",
    "prediction_svc = model_svc.predict(x_test)\n",
    "prediction_mlp = model_mlp.predict(x_test)"
   ]
  },
  {
   "cell_type": "code",
   "execution_count": null,
   "metadata": {},
   "outputs": [],
   "source": [
    "#Calculating incorrects\n",
    "\n",
    "lr_incorrect = (y_test != prediction_lr).sum()\n",
    "svc_incorrect = (y_test != prediction_svc).sum()\n",
    "mlp_incorrect = (y_test != prediction_mlp).sum()\n",
    "\n",
    "print(\"Part 2\")\n",
    "print(\"-------Answers--------\")\n",
    "\n",
    "print(\"Incorrects by Logistic Regression: \",lr_incorrect)\n",
    "print(\"Incorrects by SVC: \",svc_incorrect)\n",
    "print(\"Incorrects by MLP: \",mlp_incorrect)"
   ]
  },
  {
   "cell_type": "code",
   "execution_count": null,
   "metadata": {},
   "outputs": [],
   "source": [
    "#-------Question No. 2---------------\n",
    "#-------------------------------------\n",
    "#Part 4: Try to exclude these 2 attribute(s) from the dataset. Rerun the experiment (using 80/20 train/test split), \n",
    "#did you find any change in the results? Explain. \n",
    "#---------------------------------------------------------\n",
    "\n",
    "#excluding the \"Powerful\" attributs and assigning values to 'x' and 'y'\n",
    " \n",
    "x = list(zip(gender_file['weight'], gender_file['beard_encoded'], gender_file['hair_length_encoded'], gender_file['scarf_encoded'], gender_file['eye_color_encoded']))\n",
    "y = gender_file['gender_encoded']"
   ]
  },
  {
   "cell_type": "code",
   "execution_count": null,
   "metadata": {},
   "outputs": [],
   "source": [
    "#make train/test split\n",
    "\n",
    "X_train, x_test, Y_train, y_test = train_test_split(x, y, test_size = 0.20, random_state = 42)"
   ]
  },
  {
   "cell_type": "code",
   "execution_count": null,
   "metadata": {},
   "outputs": [],
   "source": [
    "model_lr = LogisticRegression()\n",
    "model_svc = SVC()\n",
    "model_mlp = MLPClassifier()"
   ]
  },
  {
   "cell_type": "code",
   "execution_count": null,
   "metadata": {},
   "outputs": [],
   "source": [
    "#train the model using the data (training data)\n",
    "\n",
    "model_lr.fit(X_train, Y_train)\n",
    "model_svc.fit(X_train, Y_train)\n",
    "model_mlp.fit(X_train, Y_train)"
   ]
  },
  {
   "cell_type": "code",
   "execution_count": null,
   "metadata": {},
   "outputs": [],
   "source": [
    "#make prediction using the trained model\n",
    "\n",
    "prediction_lr = model_lr.predict(x_test)\n",
    "prediction_svc = model_svc.predict(x_test)\n",
    "prediction_mlp = model_mlp.predict(x_test)"
   ]
  },
  {
   "cell_type": "code",
   "execution_count": null,
   "metadata": {},
   "outputs": [],
   "source": [
    "#Calculating incorrects\n",
    "\n",
    "lr_incorrect = (y_test != prediction_lr).sum()\n",
    "svc_incorrect = (y_test != prediction_svc).sum()\n",
    "mlp_incorrect = (y_test != prediction_mlp).sum()\n",
    "\n",
    "print(\"Part 4\")\n",
    "print(\"-------Answers--------\")\n",
    "\n",
    "print(\"Incorrects by Logistic Regression: \",lr_incorrect)\n",
    "print(\"Incorrects by SVC: \",svc_incorrect)\n",
    "print(\"Incorrects by MLP: \",mlp_incorrect)"
   ]
  },
  {
   "cell_type": "code",
   "execution_count": null,
   "metadata": {},
   "outputs": [],
   "source": [
    "#----------------------------------------\n",
    "#------------Question No. 3--------------\n",
    "#----------------------------------------\n",
    "\n",
    "\"\"\" Apply Random Forest classification algorithm (using Python) on the gender prediction dataset with Monte \n",
    "Carlo cross-validation and Leave P-Out cross-validation. Report F1 scores for both cross-validation strategies.\n",
    "Note: You are free to choose any parameter values for both cross-validation strategies, however, you have to \n",
    "provide these values in your submission document. \"\"\"\n",
    "\n",
    "\n",
    "#Again combining all the data icluding all the attributes for Question 3\n",
    "features = list(zip(gender_file['height'], gender_file['weight'], gender_file['beard_encoded'], gender_file['hair_length_encoded'], gender_file['shoe_size'], gender_file['scarf_encoded'], gender_file['eye_color_encoded']))\n",
    "targets = gender_file['gender_encoded']"
   ]
  },
  {
   "cell_type": "code",
   "execution_count": null,
   "metadata": {},
   "outputs": [],
   "source": [
    "x = features\n",
    "y = targets"
   ]
  },
  {
   "cell_type": "code",
   "execution_count": null,
   "metadata": {},
   "outputs": [],
   "source": [
    "#importing RandomForestClassifier, LeavePOut, cross_val_score, numpy for question 3\n",
    "\n",
    "from sklearn.ensemble import RandomForestClassifier\n",
    "from sklearn.model_selection import cross_val_score\n",
    "import numpy as np\n",
    "\n",
    "from sklearn.model_selection import LeavePOut"
   ]
  },
  {
   "cell_type": "code",
   "execution_count": null,
   "metadata": {},
   "outputs": [],
   "source": [
    "# Creating a Random Forest Classifier instance\n",
    "rf_classifier = RandomForestClassifier(n_estimators=100, random_state=42)\n",
    "\n",
    "X_train, x_test, Y_train, y_test = train_test_split(x, y, test_size = 0.20, random_state = 42)\n",
    "rf_classifier.fit(X_train, Y_train)\n",
    "prediction_rf = rf_classifier.predict(x_test)"
   ]
  },
  {
   "cell_type": "code",
   "execution_count": null,
   "metadata": {},
   "outputs": [],
   "source": [
    "# Perform Monte Carlo Cross-Validation with 10 iterations\n",
    "iterations = 10\n",
    "    \n",
    "f1_score = rf_classifier.score(x_test, y_test)\n",
    "\n",
    "f1_scores_monte_carlo = cross_val_score(rf_classifier, x, y, cv=10, scoring='f1')"
   ]
  },
  {
   "cell_type": "code",
   "execution_count": null,
   "metadata": {},
   "outputs": [],
   "source": [
    "n_samples = len(x)\n",
    "p = 1\n",
    "leave_p_out = LeavePOut(p)"
   ]
  },
  {
   "cell_type": "code",
   "execution_count": null,
   "metadata": {},
   "outputs": [],
   "source": [
    "f1_scores_leave_p_out = cross_val_score(rf_classifier, x, y, cv=leave_p_out, scoring='f1')"
   ]
  },
  {
   "cell_type": "code",
   "execution_count": null,
   "metadata": {},
   "outputs": [],
   "source": [
    "# Print F1 scores obtained from Monte Carlo Cross-Validation\n",
    "#print(\"F1 scores for Monte Carlo Cross-Validation:\", f1_scores_monte_carlo)\n",
    "print(\"Mean F1 score for Monte Carlo Cross-Validation:\", np.mean(f1_scores_monte_carlo))\n",
    "\n",
    "# Print F1 scores obtained from Leave P-Out Cross-Validation\n",
    "#print(\"F1 scores for Leave P-Out Cross-Validation:\", f1_scores_leave_p_out)\n",
    "print(\"Mean F1 score for Leave P-Out Cross-Validation:\", np.mean(f1_scores_leave_p_out))"
   ]
  },
  {
   "cell_type": "code",
   "execution_count": null,
   "metadata": {},
   "outputs": [],
   "source": [
    "#----------------------------------------\n",
    "#------------Question No. 4--------------\n",
    "#----------------------------------------\n",
    "\n",
    "\"\"\" : Add 10 sample instances into the dataset (you can ask your friends/relatives/sibling for the data). Run the \n",
    "ML experiment (using Python) by training the model using Gaussian Naïve Bayes classification algorithm\n",
    "and all the instances from the gender prediction dataset. Evaluate the trained model using the newly added 10\n",
    "test instances. Report accuracy, precision, and recall scores \"\"\"\n",
    "\n",
    "#import libraries for Question 4\n",
    "\n",
    "import pandas as pd\n",
    "from sklearn.naive_bayes import GaussianNB\n",
    "from sklearn.model_selection import train_test_split\n",
    "from sklearn.metrics import accuracy_score, precision_score, recall_score\n",
    "from sklearn import preprocessing"
   ]
  },
  {
   "cell_type": "code",
   "execution_count": null,
   "metadata": {},
   "outputs": [],
   "source": [
    "#read CSV (dataset) file-2 with 10 additional instances\n",
    "gender_file_2 = pd.read_csv('D:\\Sarmad\\SEMESTER 5\\Data Science\\gender-file-2.csv')\n"
   ]
  },
  {
   "cell_type": "code",
   "execution_count": null,
   "metadata": {},
   "outputs": [],
   "source": [
    "#converting categorical data (beard, hair_length, scarf, eye_color, gender) into numerical data\n",
    "\n",
    "labels = preprocessing.LabelEncoder()\n",
    "gender_file_2['beard_encoded'] = labels.fit_transform(gender_file_2['beard'])\n",
    "gender_file_2['hair_length_encoded'] = labels.fit_transform(gender_file_2['hair_length'])\n",
    "gender_file_2['scarf_encoded'] = labels.fit_transform(gender_file_2['scarf'])\n",
    "gender_file_2['eye_color_encoded'] = labels.fit_transform(gender_file_2['eye_color'])\n",
    "gender_file_2['gender_encoded'] = labels.fit_transform(gender_file_2['gender'])"
   ]
  },
  {
   "cell_type": "code",
   "execution_count": null,
   "metadata": {},
   "outputs": [],
   "source": [
    "#create a Gaussian classifier\n",
    "model = GaussianNB()"
   ]
  },
  {
   "cell_type": "code",
   "execution_count": null,
   "metadata": {},
   "outputs": [],
   "source": [
    "# Training the model on the entire updated dataset\n",
    "\n",
    "X_train = list(zip(gender_file_2['height'], gender_file_2['weight'], gender_file_2['beard_encoded'], gender_file_2['hair_length_encoded'], gender_file_2['shoe_size'], gender_file_2['scarf_encoded'], gender_file_2['eye_color_encoded']))\n",
    "Y_train = gender_file_2['gender_encoded']\n",
    "\n",
    "model.fit(X_train, Y_train)"
   ]
  },
  {
   "cell_type": "code",
   "execution_count": null,
   "metadata": {},
   "outputs": [],
   "source": [
    "# Extract the last 10 test instances of the gender-file-2\n",
    "x_test = gender_file_2.tail(10)[[ 'height', 'weight' ,'beard_encoded', 'shoe_size' ,'hair_length_encoded', 'scarf_encoded', 'eye_color_encoded']]\n",
    "y_test = gender_file_2.tail(10)['gender_encoded']"
   ]
  },
  {
   "cell_type": "code",
   "execution_count": null,
   "metadata": {},
   "outputs": [],
   "source": [
    "# Make predictions\n",
    "prediction = model.predict(x_test)"
   ]
  },
  {
   "cell_type": "code",
   "execution_count": null,
   "metadata": {},
   "outputs": [],
   "source": [
    "# Evaluate the model\n",
    "accuracy = accuracy_score(y_test, prediction)\n",
    "precision = precision_score(y_test, prediction, average='binary')\n",
    "recall = recall_score(y_test, prediction, average='binary')\n",
    "\n",
    "#using 'average = binary' parameter for binary classification because there are only two classes 'male' and 'female'"
   ]
  },
  {
   "cell_type": "code",
   "execution_count": null,
   "metadata": {},
   "outputs": [],
   "source": [
    "# Report the results\n",
    "print(\"Accuracy:\", accuracy)\n",
    "print(\"Precision:\", precision)\n",
    "print(\"Recall:\", recall)"
   ]
  }
 ],
 "metadata": {
  "kernelspec": {
   "display_name": "Python 3 (ipykernel)",
   "language": "python",
   "name": "python3"
  },
  "language_info": {
   "codemirror_mode": {
    "name": "ipython",
    "version": 3
   },
   "file_extension": ".py",
   "mimetype": "text/x-python",
   "name": "python",
   "nbconvert_exporter": "python",
   "pygments_lexer": "ipython3",
   "version": "3.11.4"
  }
 },
 "nbformat": 4,
 "nbformat_minor": 5
}
